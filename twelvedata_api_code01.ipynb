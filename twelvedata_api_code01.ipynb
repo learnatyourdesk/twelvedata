{
 "cells": [
  {
   "cell_type": "code",
   "execution_count": 1,
   "id": "50e42e18",
   "metadata": {},
   "outputs": [],
   "source": [
    "from twelvedata import TDClient"
   ]
  },
  {
   "cell_type": "code",
   "execution_count": 2,
   "id": "c8aa0c7d",
   "metadata": {},
   "outputs": [],
   "source": [
    "td = TDClient(apikey =\"346a2f324e2e4831934ce2ad25027d47\")"
   ]
  },
  {
   "cell_type": "code",
   "execution_count": 7,
   "id": "3065d2e6",
   "metadata": {},
   "outputs": [],
   "source": [
    "s_symbol=\"NOK\"\n",
    "t_interval=\"5min\"\n",
    "n_outputsize=5\n",
    "\n",
    "ts = td.time_series (\n",
    "            symbol = s_symbol,\n",
    "            interval = t_interval,\n",
    "            outputsize = n_outputsize,\n",
    ")"
   ]
  },
  {
   "cell_type": "code",
   "execution_count": 8,
   "id": "8cb38c80",
   "metadata": {},
   "outputs": [
    {
     "data": {
      "text/plain": [
       "twelvedata.time_series.TimeSeries"
      ]
     },
     "execution_count": 8,
     "metadata": {},
     "output_type": "execute_result"
    }
   ],
   "source": [
    "type(ts)"
   ]
  },
  {
   "cell_type": "code",
   "execution_count": 9,
   "id": "e6ab35e2",
   "metadata": {},
   "outputs": [
    {
     "data": {
      "text/plain": [
       "({'datetime': '2021-09-03 16:00:00',\n",
       "  'open': '6.03000',\n",
       "  'high': '6.04000',\n",
       "  'low': '6.03000',\n",
       "  'close': '6.03000',\n",
       "  'volume': '0'},\n",
       " {'datetime': '2021-09-03 15:55:00',\n",
       "  'open': '6.04500',\n",
       "  'high': '6.05000',\n",
       "  'low': '6.03000',\n",
       "  'close': '6.03990',\n",
       "  'volume': '685419'},\n",
       " {'datetime': '2021-09-03 15:50:00',\n",
       "  'open': '6.03320',\n",
       "  'high': '6.05000',\n",
       "  'low': '6.03000',\n",
       "  'close': '6.04010',\n",
       "  'volume': '424053'},\n",
       " {'datetime': '2021-09-03 15:45:00',\n",
       "  'open': '6.04000',\n",
       "  'high': '6.04000',\n",
       "  'low': '6.03000',\n",
       "  'close': '6.03500',\n",
       "  'volume': '120361'},\n",
       " {'datetime': '2021-09-03 15:40:00',\n",
       "  'open': '6.03500',\n",
       "  'high': '6.04000',\n",
       "  'low': '6.03000',\n",
       "  'close': '6.03500',\n",
       "  'volume': '32224'})"
      ]
     },
     "execution_count": 9,
     "metadata": {},
     "output_type": "execute_result"
    }
   ],
   "source": [
    "ts.as_json()"
   ]
  },
  {
   "cell_type": "code",
   "execution_count": 10,
   "id": "8458cbc7",
   "metadata": {},
   "outputs": [
    {
     "data": {
      "text/html": [
       "<div>\n",
       "<style scoped>\n",
       "    .dataframe tbody tr th:only-of-type {\n",
       "        vertical-align: middle;\n",
       "    }\n",
       "\n",
       "    .dataframe tbody tr th {\n",
       "        vertical-align: top;\n",
       "    }\n",
       "\n",
       "    .dataframe thead th {\n",
       "        text-align: right;\n",
       "    }\n",
       "</style>\n",
       "<table border=\"1\" class=\"dataframe\">\n",
       "  <thead>\n",
       "    <tr style=\"text-align: right;\">\n",
       "      <th></th>\n",
       "      <th>open</th>\n",
       "      <th>high</th>\n",
       "      <th>low</th>\n",
       "      <th>close</th>\n",
       "      <th>volume</th>\n",
       "    </tr>\n",
       "    <tr>\n",
       "      <th>datetime</th>\n",
       "      <th></th>\n",
       "      <th></th>\n",
       "      <th></th>\n",
       "      <th></th>\n",
       "      <th></th>\n",
       "    </tr>\n",
       "  </thead>\n",
       "  <tbody>\n",
       "    <tr>\n",
       "      <th>2021-09-03 16:00:00</th>\n",
       "      <td>6.0300</td>\n",
       "      <td>6.04</td>\n",
       "      <td>6.03</td>\n",
       "      <td>6.0300</td>\n",
       "      <td>0</td>\n",
       "    </tr>\n",
       "    <tr>\n",
       "      <th>2021-09-03 15:55:00</th>\n",
       "      <td>6.0450</td>\n",
       "      <td>6.05</td>\n",
       "      <td>6.03</td>\n",
       "      <td>6.0399</td>\n",
       "      <td>685419</td>\n",
       "    </tr>\n",
       "    <tr>\n",
       "      <th>2021-09-03 15:50:00</th>\n",
       "      <td>6.0332</td>\n",
       "      <td>6.05</td>\n",
       "      <td>6.03</td>\n",
       "      <td>6.0401</td>\n",
       "      <td>424053</td>\n",
       "    </tr>\n",
       "    <tr>\n",
       "      <th>2021-09-03 15:45:00</th>\n",
       "      <td>6.0400</td>\n",
       "      <td>6.04</td>\n",
       "      <td>6.03</td>\n",
       "      <td>6.0350</td>\n",
       "      <td>120361</td>\n",
       "    </tr>\n",
       "    <tr>\n",
       "      <th>2021-09-03 15:40:00</th>\n",
       "      <td>6.0350</td>\n",
       "      <td>6.04</td>\n",
       "      <td>6.03</td>\n",
       "      <td>6.0350</td>\n",
       "      <td>32224</td>\n",
       "    </tr>\n",
       "  </tbody>\n",
       "</table>\n",
       "</div>"
      ],
      "text/plain": [
       "                       open  high   low   close  volume\n",
       "datetime                                               \n",
       "2021-09-03 16:00:00  6.0300  6.04  6.03  6.0300       0\n",
       "2021-09-03 15:55:00  6.0450  6.05  6.03  6.0399  685419\n",
       "2021-09-03 15:50:00  6.0332  6.05  6.03  6.0401  424053\n",
       "2021-09-03 15:45:00  6.0400  6.04  6.03  6.0350  120361\n",
       "2021-09-03 15:40:00  6.0350  6.04  6.03  6.0350   32224"
      ]
     },
     "execution_count": 10,
     "metadata": {},
     "output_type": "execute_result"
    }
   ],
   "source": [
    "ts.as_pandas()"
   ]
  },
  {
   "cell_type": "code",
   "execution_count": null,
   "id": "ff6a71f5",
   "metadata": {},
   "outputs": [],
   "source": []
  }
 ],
 "metadata": {
  "kernelspec": {
   "display_name": "Python 3 (ipykernel)",
   "language": "python",
   "name": "python3"
  },
  "language_info": {
   "codemirror_mode": {
    "name": "ipython",
    "version": 3
   },
   "file_extension": ".py",
   "mimetype": "text/x-python",
   "name": "python",
   "nbconvert_exporter": "python",
   "pygments_lexer": "ipython3",
   "version": "3.9.7"
  }
 },
 "nbformat": 4,
 "nbformat_minor": 5
}
